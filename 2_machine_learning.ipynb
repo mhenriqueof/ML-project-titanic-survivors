{
 "cells": [
  {
   "cell_type": "code",
   "execution_count": null,
   "metadata": {
    "execution": {
     "iopub.execute_input": "2024-12-25T18:33:53.601490Z",
     "iopub.status.busy": "2024-12-25T18:33:53.600896Z",
     "iopub.status.idle": "2024-12-25T18:33:53.607674Z",
     "shell.execute_reply": "2024-12-25T18:33:53.606577Z",
     "shell.execute_reply.started": "2024-12-25T18:33:53.601456Z"
    },
    "trusted": true
   },
   "outputs": [],
   "source": [
    "import numpy as np\n",
    "import pandas as pd\n",
    "import seaborn as sns\n",
    "import matplotlib.pyplot as plt\n",
    "import joblib\n",
    "\n",
    "from sklearn.model_selection import train_test_split, cross_val_score, StratifiedKFold, RandomizedSearchCV, GridSearchCV\n",
    "from sklearn.pipeline import make_pipeline\n",
    "from sklearn.preprocessing import StandardScaler\n",
    "from sklearn.metrics import classification_report, confusion_matrix, f1_score\n",
    "from imblearn.over_sampling import SMOTE\n",
    "from sklearn.feature_selection import RFECV\n",
    "\n",
    "from sklearn.tree import DecisionTreeClassifier\n",
    "from sklearn.ensemble import RandomForestClassifier, AdaBoostClassifier, GradientBoostingClassifier\n",
    "from sklearn.linear_model import LogisticRegression\n",
    "from sklearn.svm import SVC\n",
    "from sklearn.neighbors import KNeighborsClassifier\n",
    "from sklearn.naive_bayes import GaussianNB\n",
    "import xgboost as xgb"
   ]
  },
  {
   "cell_type": "markdown",
   "metadata": {},
   "source": [
    "---"
   ]
  },
  {
   "cell_type": "code",
   "execution_count": null,
   "metadata": {
    "execution": {
     "iopub.execute_input": "2024-12-25T18:33:53.609389Z",
     "iopub.status.busy": "2024-12-25T18:33:53.608998Z",
     "iopub.status.idle": "2024-12-25T18:33:53.691278Z",
     "shell.execute_reply": "2024-12-25T18:33:53.690428Z",
     "shell.execute_reply.started": "2024-12-25T18:33:53.609350Z"
    },
    "trusted": true
   },
   "outputs": [
    {
     "data": {
      "text/html": [
       "<div>\n",
       "<style scoped>\n",
       "    .dataframe tbody tr th:only-of-type {\n",
       "        vertical-align: middle;\n",
       "    }\n",
       "\n",
       "    .dataframe tbody tr th {\n",
       "        vertical-align: top;\n",
       "    }\n",
       "\n",
       "    .dataframe thead th {\n",
       "        text-align: right;\n",
       "    }\n",
       "</style>\n",
       "<table border=\"1\" class=\"dataframe\">\n",
       "  <thead>\n",
       "    <tr style=\"text-align: right;\">\n",
       "      <th></th>\n",
       "      <th>Survived</th>\n",
       "      <th>Pclass</th>\n",
       "      <th>Sex</th>\n",
       "      <th>Age</th>\n",
       "      <th>SibSp</th>\n",
       "      <th>Parch</th>\n",
       "      <th>Fare</th>\n",
       "      <th>Companion</th>\n",
       "      <th>AgeWeight</th>\n",
       "      <th>FareWeight</th>\n",
       "      <th>...</th>\n",
       "      <th>AgeGroup_Adult</th>\n",
       "      <th>AgeGroup_Child</th>\n",
       "      <th>AgeGroup_Elder</th>\n",
       "      <th>AgeGroup_Little</th>\n",
       "      <th>AgeGroup_Young</th>\n",
       "      <th>FareCategory_Budget</th>\n",
       "      <th>FareCategory_Economy</th>\n",
       "      <th>FareCategory_Luxuary</th>\n",
       "      <th>FareCategory_Premium</th>\n",
       "      <th>FareCategory_Standard</th>\n",
       "    </tr>\n",
       "  </thead>\n",
       "  <tbody>\n",
       "    <tr>\n",
       "      <th>0</th>\n",
       "      <td>0.0</td>\n",
       "      <td>3</td>\n",
       "      <td>1</td>\n",
       "      <td>22.0</td>\n",
       "      <td>1</td>\n",
       "      <td>0</td>\n",
       "      <td>7.2500</td>\n",
       "      <td>1</td>\n",
       "      <td>66.0</td>\n",
       "      <td>2.416667</td>\n",
       "      <td>...</td>\n",
       "      <td>0.0</td>\n",
       "      <td>0.0</td>\n",
       "      <td>0.0</td>\n",
       "      <td>0.0</td>\n",
       "      <td>1.0</td>\n",
       "      <td>1.0</td>\n",
       "      <td>0.0</td>\n",
       "      <td>0.0</td>\n",
       "      <td>0.0</td>\n",
       "      <td>0.0</td>\n",
       "    </tr>\n",
       "    <tr>\n",
       "      <th>1</th>\n",
       "      <td>1.0</td>\n",
       "      <td>1</td>\n",
       "      <td>0</td>\n",
       "      <td>38.0</td>\n",
       "      <td>1</td>\n",
       "      <td>0</td>\n",
       "      <td>66.3438</td>\n",
       "      <td>1</td>\n",
       "      <td>38.0</td>\n",
       "      <td>66.343800</td>\n",
       "      <td>...</td>\n",
       "      <td>1.0</td>\n",
       "      <td>0.0</td>\n",
       "      <td>0.0</td>\n",
       "      <td>0.0</td>\n",
       "      <td>0.0</td>\n",
       "      <td>0.0</td>\n",
       "      <td>0.0</td>\n",
       "      <td>1.0</td>\n",
       "      <td>0.0</td>\n",
       "      <td>0.0</td>\n",
       "    </tr>\n",
       "    <tr>\n",
       "      <th>2</th>\n",
       "      <td>1.0</td>\n",
       "      <td>3</td>\n",
       "      <td>0</td>\n",
       "      <td>26.0</td>\n",
       "      <td>0</td>\n",
       "      <td>0</td>\n",
       "      <td>7.9250</td>\n",
       "      <td>0</td>\n",
       "      <td>78.0</td>\n",
       "      <td>2.641667</td>\n",
       "      <td>...</td>\n",
       "      <td>0.0</td>\n",
       "      <td>0.0</td>\n",
       "      <td>0.0</td>\n",
       "      <td>0.0</td>\n",
       "      <td>1.0</td>\n",
       "      <td>1.0</td>\n",
       "      <td>0.0</td>\n",
       "      <td>0.0</td>\n",
       "      <td>0.0</td>\n",
       "      <td>0.0</td>\n",
       "    </tr>\n",
       "    <tr>\n",
       "      <th>3</th>\n",
       "      <td>1.0</td>\n",
       "      <td>1</td>\n",
       "      <td>0</td>\n",
       "      <td>35.0</td>\n",
       "      <td>1</td>\n",
       "      <td>0</td>\n",
       "      <td>53.1000</td>\n",
       "      <td>1</td>\n",
       "      <td>35.0</td>\n",
       "      <td>53.100000</td>\n",
       "      <td>...</td>\n",
       "      <td>1.0</td>\n",
       "      <td>0.0</td>\n",
       "      <td>0.0</td>\n",
       "      <td>0.0</td>\n",
       "      <td>0.0</td>\n",
       "      <td>0.0</td>\n",
       "      <td>0.0</td>\n",
       "      <td>0.0</td>\n",
       "      <td>1.0</td>\n",
       "      <td>0.0</td>\n",
       "    </tr>\n",
       "    <tr>\n",
       "      <th>4</th>\n",
       "      <td>0.0</td>\n",
       "      <td>3</td>\n",
       "      <td>1</td>\n",
       "      <td>35.0</td>\n",
       "      <td>0</td>\n",
       "      <td>0</td>\n",
       "      <td>8.0500</td>\n",
       "      <td>0</td>\n",
       "      <td>105.0</td>\n",
       "      <td>2.683333</td>\n",
       "      <td>...</td>\n",
       "      <td>1.0</td>\n",
       "      <td>0.0</td>\n",
       "      <td>0.0</td>\n",
       "      <td>0.0</td>\n",
       "      <td>0.0</td>\n",
       "      <td>0.0</td>\n",
       "      <td>1.0</td>\n",
       "      <td>0.0</td>\n",
       "      <td>0.0</td>\n",
       "      <td>0.0</td>\n",
       "    </tr>\n",
       "  </tbody>\n",
       "</table>\n",
       "<p>5 rows × 58 columns</p>\n",
       "</div>"
      ],
      "text/plain": [
       "   Survived  Pclass  Sex   Age  SibSp  Parch     Fare  Companion  AgeWeight  \\\n",
       "0       0.0       3    1  22.0      1      0   7.2500          1       66.0   \n",
       "1       1.0       1    0  38.0      1      0  66.3438          1       38.0   \n",
       "2       1.0       3    0  26.0      0      0   7.9250          0       78.0   \n",
       "3       1.0       1    0  35.0      1      0  53.1000          1       35.0   \n",
       "4       0.0       3    1  35.0      0      0   8.0500          0      105.0   \n",
       "\n",
       "   FareWeight  ...  AgeGroup_Adult  AgeGroup_Child  AgeGroup_Elder  \\\n",
       "0    2.416667  ...             0.0             0.0             0.0   \n",
       "1   66.343800  ...             1.0             0.0             0.0   \n",
       "2    2.641667  ...             0.0             0.0             0.0   \n",
       "3   53.100000  ...             1.0             0.0             0.0   \n",
       "4    2.683333  ...             1.0             0.0             0.0   \n",
       "\n",
       "   AgeGroup_Little  AgeGroup_Young  FareCategory_Budget  FareCategory_Economy  \\\n",
       "0              0.0             1.0                  1.0                   0.0   \n",
       "1              0.0             0.0                  0.0                   0.0   \n",
       "2              0.0             1.0                  1.0                   0.0   \n",
       "3              0.0             0.0                  0.0                   0.0   \n",
       "4              0.0             0.0                  0.0                   1.0   \n",
       "\n",
       "   FareCategory_Luxuary  FareCategory_Premium  FareCategory_Standard  \n",
       "0                   0.0                   0.0                    0.0  \n",
       "1                   1.0                   0.0                    0.0  \n",
       "2                   0.0                   0.0                    0.0  \n",
       "3                   0.0                   1.0                    0.0  \n",
       "4                   0.0                   0.0                    0.0  \n",
       "\n",
       "[5 rows x 58 columns]"
      ]
     },
     "execution_count": 4,
     "metadata": {},
     "output_type": "execute_result"
    }
   ],
   "source": [
    "train_df = pd.read_csv('data-dataset/preprocessed_train.csv')\n",
    "train_df.head()"
   ]
  },
  {
   "cell_type": "code",
   "execution_count": 5,
   "metadata": {
    "execution": {
     "iopub.execute_input": "2024-12-25T18:33:53.692921Z",
     "iopub.status.busy": "2024-12-25T18:33:53.692605Z",
     "iopub.status.idle": "2024-12-25T18:33:53.715504Z",
     "shell.execute_reply": "2024-12-25T18:33:53.714405Z",
     "shell.execute_reply.started": "2024-12-25T18:33:53.692893Z"
    },
    "trusted": true
   },
   "outputs": [
    {
     "name": "stdout",
     "output_type": "stream",
     "text": [
      "<class 'pandas.core.frame.DataFrame'>\n",
      "RangeIndex: 891 entries, 0 to 890\n",
      "Data columns (total 58 columns):\n",
      " #   Column                 Non-Null Count  Dtype  \n",
      "---  ------                 --------------  -----  \n",
      " 0   Survived               891 non-null    float64\n",
      " 1   Pclass                 891 non-null    int64  \n",
      " 2   Sex                    891 non-null    int64  \n",
      " 3   Age                    891 non-null    float64\n",
      " 4   SibSp                  891 non-null    int64  \n",
      " 5   Parch                  891 non-null    int64  \n",
      " 6   Fare                   891 non-null    float64\n",
      " 7   Companion              891 non-null    int64  \n",
      " 8   AgeWeight              891 non-null    float64\n",
      " 9   FareWeight             891 non-null    float64\n",
      " 10  Title_Master           891 non-null    float64\n",
      " 11  Title_Miss             891 non-null    float64\n",
      " 12  Title_Mr               891 non-null    float64\n",
      " 13  Title_Mrs              891 non-null    float64\n",
      " 14  Ticket_1               891 non-null    float64\n",
      " 15  Ticket_2               891 non-null    float64\n",
      " 16  Ticket_3               891 non-null    float64\n",
      " 17  Ticket_4               891 non-null    float64\n",
      " 18  Ticket_5               891 non-null    float64\n",
      " 19  Ticket_6               891 non-null    float64\n",
      " 20  Ticket_7               891 non-null    float64\n",
      " 21  Ticket_8               891 non-null    float64\n",
      " 22  Ticket_9               891 non-null    float64\n",
      " 23  Ticket_A               891 non-null    float64\n",
      " 24  Ticket_C               891 non-null    float64\n",
      " 25  Ticket_F               891 non-null    float64\n",
      " 26  Ticket_L               891 non-null    float64\n",
      " 27  Ticket_P               891 non-null    float64\n",
      " 28  Ticket_S               891 non-null    float64\n",
      " 29  Ticket_W               891 non-null    float64\n",
      " 30  Cabin_0                891 non-null    float64\n",
      " 31  Cabin_A                891 non-null    float64\n",
      " 32  Cabin_B                891 non-null    float64\n",
      " 33  Cabin_C                891 non-null    float64\n",
      " 34  Cabin_D                891 non-null    float64\n",
      " 35  Cabin_E                891 non-null    float64\n",
      " 36  Cabin_F                891 non-null    float64\n",
      " 37  Cabin_G                891 non-null    float64\n",
      " 38  Cabin_T                891 non-null    float64\n",
      " 39  Embarked_C             891 non-null    float64\n",
      " 40  Embarked_Q             891 non-null    float64\n",
      " 41  Embarked_S             891 non-null    float64\n",
      " 42  SexPclass_0-1          891 non-null    float64\n",
      " 43  SexPclass_0-2          891 non-null    float64\n",
      " 44  SexPclass_0-3          891 non-null    float64\n",
      " 45  SexPclass_1-1          891 non-null    float64\n",
      " 46  SexPclass_1-2          891 non-null    float64\n",
      " 47  SexPclass_1-3          891 non-null    float64\n",
      " 48  AgeGroup_Adult         891 non-null    float64\n",
      " 49  AgeGroup_Child         891 non-null    float64\n",
      " 50  AgeGroup_Elder         891 non-null    float64\n",
      " 51  AgeGroup_Little        891 non-null    float64\n",
      " 52  AgeGroup_Young         891 non-null    float64\n",
      " 53  FareCategory_Budget    891 non-null    float64\n",
      " 54  FareCategory_Economy   891 non-null    float64\n",
      " 55  FareCategory_Luxuary   891 non-null    float64\n",
      " 56  FareCategory_Premium   891 non-null    float64\n",
      " 57  FareCategory_Standard  891 non-null    float64\n",
      "dtypes: float64(53), int64(5)\n",
      "memory usage: 403.9 KB\n"
     ]
    }
   ],
   "source": [
    "train_df.info()"
   ]
  },
  {
   "cell_type": "markdown",
   "metadata": {},
   "source": [
    "---"
   ]
  },
  {
   "cell_type": "code",
   "execution_count": 6,
   "metadata": {
    "execution": {
     "iopub.execute_input": "2024-12-25T18:33:53.717155Z",
     "iopub.status.busy": "2024-12-25T18:33:53.716911Z",
     "iopub.status.idle": "2024-12-25T18:33:53.722377Z",
     "shell.execute_reply": "2024-12-25T18:33:53.721244Z",
     "shell.execute_reply.started": "2024-12-25T18:33:53.717133Z"
    },
    "trusted": true
   },
   "outputs": [],
   "source": [
    "X = train_df.drop(columns='Survived')\n",
    "y = train_df['Survived']"
   ]
  },
  {
   "cell_type": "code",
   "execution_count": null,
   "metadata": {
    "execution": {
     "iopub.execute_input": "2024-12-25T18:33:53.723804Z",
     "iopub.status.busy": "2024-12-25T18:33:53.723447Z",
     "iopub.status.idle": "2024-12-25T18:33:53.742480Z",
     "shell.execute_reply": "2024-12-25T18:33:53.741548Z",
     "shell.execute_reply.started": "2024-12-25T18:33:53.723768Z"
    },
    "trusted": true
   },
   "outputs": [],
   "source": [
    "X_train, X_test, y_train, y_test = train_test_split(X, y, stratify=y, test_size=0.20)"
   ]
  },
  {
   "cell_type": "markdown",
   "metadata": {},
   "source": [
    "**I'll use Logistic Regression just to see the classification report and confusion matrix in general**"
   ]
  },
  {
   "cell_type": "code",
   "execution_count": null,
   "metadata": {
    "execution": {
     "iopub.execute_input": "2024-12-25T18:33:53.743725Z",
     "iopub.status.busy": "2024-12-25T18:33:53.743466Z",
     "iopub.status.idle": "2024-12-25T18:33:53.827246Z",
     "shell.execute_reply": "2024-12-25T18:33:53.825871Z",
     "shell.execute_reply.started": "2024-12-25T18:33:53.743704Z"
    },
    "trusted": true
   },
   "outputs": [
    {
     "name": "stdout",
     "output_type": "stream",
     "text": [
      "              precision    recall  f1-score   support\n",
      "\n",
      "         0.0       0.82      0.91      0.86       110\n",
      "         1.0       0.82      0.68      0.75        69\n",
      "\n",
      "    accuracy                           0.82       179\n",
      "   macro avg       0.82      0.80      0.80       179\n",
      "weighted avg       0.82      0.82      0.82       179\n",
      "\n"
     ]
    }
   ],
   "source": [
    "trial_model = make_pipeline(StandardScaler(), LogisticRegression())\n",
    "trial_model.fit(X_train, y_train)\n",
    "y_pred = trial_model.predict(X_test)\n",
    "print(classification_report(y_test, y_pred))"
   ]
  },
  {
   "cell_type": "code",
   "execution_count": 9,
   "metadata": {
    "execution": {
     "iopub.execute_input": "2024-12-25T18:33:53.834888Z",
     "iopub.status.busy": "2024-12-25T18:33:53.831597Z",
     "iopub.status.idle": "2024-12-25T18:33:54.183567Z",
     "shell.execute_reply": "2024-12-25T18:33:54.182590Z",
     "shell.execute_reply.started": "2024-12-25T18:33:53.834834Z"
    },
    "trusted": true
   },
   "outputs": [
    {
     "data": {
      "image/png": "[encoded data removed]",
      "text/plain": [
       "<Figure size 640x480 with 2 Axes>"
      ]
     },
     "metadata": {},
     "output_type": "display_data"
    }
   ],
   "source": [
    "sns.heatmap(confusion_matrix(y_test, y_pred), annot=True, cmap='coolwarm', fmt='d')\n",
    "plt.xlabel('Predicted')\n",
    "plt.ylabel('Actual')\n",
    "plt.show()"
   ]
  },
  {
   "cell_type": "markdown",
   "metadata": {},
   "source": [
    "The dataset is unbalanced, there are more non-survivors than survivors. So i'm going to balance the dataset with SMOTE and see the results"
   ]
  },
  {
   "cell_type": "code",
   "execution_count": null,
   "metadata": {
    "execution": {
     "iopub.execute_input": "2024-12-25T18:33:54.185016Z",
     "iopub.status.busy": "2024-12-25T18:33:54.184778Z",
     "iopub.status.idle": "2024-12-25T18:33:54.246490Z",
     "shell.execute_reply": "2024-12-25T18:33:54.245581Z",
     "shell.execute_reply.started": "2024-12-25T18:33:54.184996Z"
    },
    "trusted": true
   },
   "outputs": [],
   "source": [
    "smote = SMOTE()\n",
    "X_train_balanced, y_train_balanced = smote.fit_resample(X_train, y_train)"
   ]
  },
  {
   "cell_type": "code",
   "execution_count": null,
   "metadata": {
    "execution": {
     "iopub.execute_input": "2024-12-25T18:33:54.247980Z",
     "iopub.status.busy": "2024-12-25T18:33:54.247537Z",
     "iopub.status.idle": "2024-12-25T18:33:54.321474Z",
     "shell.execute_reply": "2024-12-25T18:33:54.319435Z",
     "shell.execute_reply.started": "2024-12-25T18:33:54.247938Z"
    },
    "trusted": true
   },
   "outputs": [
    {
     "name": "stdout",
     "output_type": "stream",
     "text": [
      "              precision    recall  f1-score   support\n",
      "\n",
      "         0.0       0.83      0.87      0.85       110\n",
      "         1.0       0.78      0.71      0.74        69\n",
      "\n",
      "    accuracy                           0.81       179\n",
      "   macro avg       0.80      0.79      0.80       179\n",
      "weighted avg       0.81      0.81      0.81       179\n",
      "\n"
     ]
    }
   ],
   "source": [
    "trial_model = make_pipeline(StandardScaler(), LogisticRegression())\n",
    "trial_model.fit(X_train_balanced, y_train_balanced)\n",
    "y_pred = trial_model.predict(X_test)\n",
    "print(classification_report(y_test, y_pred))"
   ]
  },
  {
   "cell_type": "code",
   "execution_count": 12,
   "metadata": {
    "execution": {
     "iopub.execute_input": "2024-12-25T18:33:54.323011Z",
     "iopub.status.busy": "2024-12-25T18:33:54.322544Z",
     "iopub.status.idle": "2024-12-25T18:33:54.625479Z",
     "shell.execute_reply": "2024-12-25T18:33:54.624131Z",
     "shell.execute_reply.started": "2024-12-25T18:33:54.322968Z"
    },
    "trusted": true
   },
   "outputs": [
    {
     "data": {
      "image/png": "[encoded data removed]",
      "text/plain": [
       "<Figure size 640x480 with 2 Axes>"
      ]
     },
     "metadata": {},
     "output_type": "display_data"
    }
   ],
   "source": [
    "sns.heatmap(confusion_matrix(y_test, y_pred), annot=True, cmap='coolwarm', fmt='d')\n",
    "plt.xlabel('Predicted')\n",
    "plt.ylabel('Actual')\n",
    "plt.show()"
   ]
  },
  {
   "cell_type": "markdown",
   "metadata": {},
   "source": [
    "4 non-survivors were predicted wrong, but 2 survivors were predicted right, there wasn't much change balancing the dataset. I'm going to choose the best model and then see the results with and without SMOTE again"
   ]
  },
  {
   "cell_type": "markdown",
   "metadata": {},
   "source": [
    "**Choosing the best model according to F1-Score with Cross Validation in the whole train.csv**"
   ]
  },
  {
   "cell_type": "code",
   "execution_count": 13,
   "metadata": {
    "execution": {
     "iopub.execute_input": "2024-12-25T18:33:54.626889Z",
     "iopub.status.busy": "2024-12-25T18:33:54.626524Z",
     "iopub.status.idle": "2024-12-25T18:33:54.632417Z",
     "shell.execute_reply": "2024-12-25T18:33:54.631349Z",
     "shell.execute_reply.started": "2024-12-25T18:33:54.626851Z"
    },
    "trusted": true
   },
   "outputs": [],
   "source": [
    "models_list = [\n",
    "     {'Decision Tree': DecisionTreeClassifier()},\n",
    "     {'Random Forest': RandomForestClassifier()},\n",
    "     {'Ada Boost': AdaBoostClassifier(algorithm='SAMME')}, # I needed to put a parameter because of errors\n",
    "     {'Gradient Boosting': GradientBoostingClassifier()},\n",
    "     {'Logistic Regression': make_pipeline(StandardScaler(), LogisticRegression(max_iter=5000))}, # I needed to put a parameter because of errors\n",
    "     {'SVC': SVC()},\n",
    "     {'KNeighbors': KNeighborsClassifier()},\n",
    "     {'GaussianNB': GaussianNB()},\n",
    "     {'XGBoost': xgb.XGBClassifier()}\n",
    "]"
   ]
  },
  {
   "cell_type": "code",
   "execution_count": null,
   "metadata": {
    "execution": {
     "iopub.execute_input": "2024-12-25T18:33:54.633282Z",
     "iopub.status.busy": "2024-12-25T18:33:54.633037Z",
     "iopub.status.idle": "2024-12-25T18:33:54.648057Z",
     "shell.execute_reply": "2024-12-25T18:33:54.646847Z",
     "shell.execute_reply.started": "2024-12-25T18:33:54.633256Z"
    },
    "trusted": true
   },
   "outputs": [],
   "source": [
    "skf = StratifiedKFold(n_splits=5, shuffle=True, random_state=2024)"
   ]
  },
  {
   "cell_type": "code",
   "execution_count": null,
   "metadata": {
    "execution": {
     "iopub.execute_input": "2024-12-25T18:33:54.649301Z",
     "iopub.status.busy": "2024-12-25T18:33:54.649058Z",
     "iopub.status.idle": "2024-12-25T18:33:58.669087Z",
     "shell.execute_reply": "2024-12-25T18:33:58.668311Z",
     "shell.execute_reply.started": "2024-12-25T18:33:54.649279Z"
    },
    "trusted": true
   },
   "outputs": [
    {
     "data": {
      "text/plain": [
       "[{'Gradient Boosting': 0.779},\n",
       " {'Logistic Regression': 0.768},\n",
       " {'Random Forest': 0.764},\n",
       " {'XGBoost': 0.757},\n",
       " {'Ada Boost': 0.756},\n",
       " {'GaussianNB': 0.747},\n",
       " {'Decision Tree': 0.716},\n",
       " {'KNeighbors': 0.579},\n",
       " {'SVC': 0.544}]"
      ]
     },
     "execution_count": 15,
     "metadata": {},
     "output_type": "execute_result"
    }
   ],
   "source": [
    "scores_list = []\n",
    "for models in models_list:\n",
    "    for model_name, model in models.items():\n",
    "        cv_score = cross_val_score(model, X, y, cv=skf, scoring='f1')\n",
    "        scores_list.append({model_name: round(cv_score.mean(), 3)})\n",
    "sorted(scores_list, key=lambda x: list(x.values())[0], reverse=True)"
   ]
  },
  {
   "cell_type": "markdown",
   "metadata": {},
   "source": [
    "---\n",
    "# **Gradient Boosting**"
   ]
  },
  {
   "cell_type": "code",
   "execution_count": null,
   "metadata": {
    "execution": {
     "iopub.execute_input": "2024-12-25T18:34:01.994379Z",
     "iopub.status.busy": "2024-12-25T18:34:01.994003Z",
     "iopub.status.idle": "2024-12-25T18:34:01.999138Z",
     "shell.execute_reply": "2024-12-25T18:34:01.997705Z",
     "shell.execute_reply.started": "2024-12-25T18:34:01.994313Z"
    },
    "trusted": true
   },
   "outputs": [],
   "source": [
    "model = GradientBoostingClassifier()"
   ]
  },
  {
   "cell_type": "code",
   "execution_count": 17,
   "metadata": {
    "execution": {
     "iopub.execute_input": "2024-12-25T18:34:03.304504Z",
     "iopub.status.busy": "2024-12-25T18:34:03.304109Z",
     "iopub.status.idle": "2024-12-25T18:34:03.521197Z",
     "shell.execute_reply": "2024-12-25T18:34:03.520290Z",
     "shell.execute_reply.started": "2024-12-25T18:34:03.304474Z"
    },
    "trusted": true
   },
   "outputs": [
    {
     "data": {
      "text/plain": [
       "0.7518796992481203"
      ]
     },
     "execution_count": 17,
     "metadata": {},
     "output_type": "execute_result"
    }
   ],
   "source": [
    "model.fit(X_train, y_train)\n",
    "y_pred = model.predict(X_test)\n",
    "f1_score(y_test, y_pred)"
   ]
  },
  {
   "cell_type": "code",
   "execution_count": 18,
   "metadata": {
    "execution": {
     "iopub.execute_input": "2024-12-25T18:34:04.440607Z",
     "iopub.status.busy": "2024-12-25T18:34:04.440203Z",
     "iopub.status.idle": "2024-12-25T18:34:05.365243Z",
     "shell.execute_reply": "2024-12-25T18:34:05.364420Z",
     "shell.execute_reply.started": "2024-12-25T18:34:04.440575Z"
    },
    "trusted": true
   },
   "outputs": [
    {
     "data": {
      "text/plain": [
       "0.756"
      ]
     },
     "execution_count": 18,
     "metadata": {},
     "output_type": "execute_result"
    }
   ],
   "source": [
    "cv_score = cross_val_score(model, X_train, y_train, cv=skf, scoring='f1')\n",
    "round(cv_score.mean(), 3)"
   ]
  },
  {
   "cell_type": "code",
   "execution_count": 19,
   "metadata": {
    "execution": {
     "iopub.execute_input": "2024-12-25T18:34:07.492532Z",
     "iopub.status.busy": "2024-12-25T18:34:07.492171Z",
     "iopub.status.idle": "2024-12-25T18:34:08.531936Z",
     "shell.execute_reply": "2024-12-25T18:34:08.530819Z",
     "shell.execute_reply.started": "2024-12-25T18:34:07.492505Z"
    },
    "trusted": true
   },
   "outputs": [
    {
     "data": {
      "text/plain": [
       "0.777"
      ]
     },
     "execution_count": 19,
     "metadata": {},
     "output_type": "execute_result"
    }
   ],
   "source": [
    "cv_score = cross_val_score(model, X, y, cv=skf, scoring='f1')\n",
    "round(cv_score.mean(), 3)"
   ]
  },
  {
   "cell_type": "markdown",
   "metadata": {},
   "source": [
    "---\n",
    "**RFECV**\n"
   ]
  },
  {
   "cell_type": "code",
   "execution_count": 20,
   "metadata": {
    "execution": {
     "iopub.execute_input": "2024-12-25T18:34:10.704953Z",
     "iopub.status.busy": "2024-12-25T18:34:10.704593Z",
     "iopub.status.idle": "2024-12-25T18:34:10.710573Z",
     "shell.execute_reply": "2024-12-25T18:34:10.709550Z",
     "shell.execute_reply.started": "2024-12-25T18:34:10.704925Z"
    },
    "trusted": true
   },
   "outputs": [
    {
     "data": {
      "text/plain": [
       "(712, 57)"
      ]
     },
     "execution_count": 20,
     "metadata": {},
     "output_type": "execute_result"
    }
   ],
   "source": [
    "X_train.shape"
   ]
  },
  {
   "cell_type": "code",
   "execution_count": null,
   "metadata": {
    "execution": {
     "iopub.execute_input": "2024-12-25T18:40:30.082267Z",
     "iopub.status.busy": "2024-12-25T18:40:30.081894Z",
     "iopub.status.idle": "2024-12-25T18:40:30.086675Z",
     "shell.execute_reply": "2024-12-25T18:40:30.085570Z",
     "shell.execute_reply.started": "2024-12-25T18:40:30.082234Z"
    },
    "trusted": true
   },
   "outputs": [],
   "source": [
    "rfecv = RFECV(estimator=model, cv=skf, scoring='f1', step=1)"
   ]
  },
  {
   "cell_type": "code",
   "execution_count": 65,
   "metadata": {
    "execution": {
     "iopub.execute_input": "2024-12-25T18:42:14.851109Z",
     "iopub.status.busy": "2024-12-25T18:42:14.850688Z",
     "iopub.status.idle": "2024-12-25T18:43:07.140433Z",
     "shell.execute_reply": "2024-12-25T18:43:07.139383Z",
     "shell.execute_reply.started": "2024-12-25T18:42:14.851066Z"
    },
    "trusted": true
   },
   "outputs": [
    {
     "data": {
      "text/html": [
       "<style>#sk-container-id-6 {color: black;background-color: white;}#sk-container-id-6 pre{padding: 0;}#sk-container-id-6 div.sk-toggleable {background-color: white;}#sk-container-id-6 label.sk-toggleable__label {cursor: pointer;display: block;width: 100%;margin-bottom: 0;padding: 0.3em;box-sizing: border-box;text-align: center;}#sk-container-id-6 label.sk-toggleable__label-arrow:before {content: \"▸\";float: left;margin-right: 0.25em;color: #696969;}#sk-container-id-6 label.sk-toggleable__label-arrow:hover:before {color: black;}#sk-container-id-6 div.sk-estimator:hover label.sk-toggleable__label-arrow:before {color: black;}#sk-container-id-6 div.sk-toggleable__content {max-height: 0;max-width: 0;overflow: hidden;text-align: left;background-color: #f0f8ff;}#sk-container-id-6 div.sk-toggleable__content pre {margin: 0.2em;color: black;border-radius: 0.25em;background-color: #f0f8ff;}#sk-container-id-6 input.sk-toggleable__control:checked~div.sk-toggleable__content {max-height: 200px;max-width: 100%;overflow: auto;}#sk-container-id-6 input.sk-toggleable__control:checked~label.sk-toggleable__label-arrow:before {content: \"▾\";}#sk-container-id-6 div.sk-estimator input.sk-toggleable__control:checked~label.sk-toggleable__label {background-color: #d4ebff;}#sk-container-id-6 div.sk-label input.sk-toggleable__control:checked~label.sk-toggleable__label {background-color: #d4ebff;}#sk-container-id-6 input.sk-hidden--visually {border: 0;clip: rect(1px 1px 1px 1px);clip: rect(1px, 1px, 1px, 1px);height: 1px;margin: -1px;overflow: hidden;padding: 0;position: absolute;width: 1px;}#sk-container-id-6 div.sk-estimator {font-family: monospace;background-color: #f0f8ff;border: 1px dotted black;border-radius: 0.25em;box-sizing: border-box;margin-bottom: 0.5em;}#sk-container-id-6 div.sk-estimator:hover {background-color: #d4ebff;}#sk-container-id-6 div.sk-parallel-item::after {content: \"\";width: 100%;border-bottom: 1px solid gray;flex-grow: 1;}#sk-container-id-6 div.sk-label:hover label.sk-toggleable__label {background-color: #d4ebff;}#sk-container-id-6 div.sk-serial::before {content: \"\";position: absolute;border-left: 1px solid gray;box-sizing: border-box;top: 0;bottom: 0;left: 50%;z-index: 0;}#sk-container-id-6 div.sk-serial {display: flex;flex-direction: column;align-items: center;background-color: white;padding-right: 0.2em;padding-left: 0.2em;position: relative;}#sk-container-id-6 div.sk-item {position: relative;z-index: 1;}#sk-container-id-6 div.sk-parallel {display: flex;align-items: stretch;justify-content: center;background-color: white;position: relative;}#sk-container-id-6 div.sk-item::before, #sk-container-id-6 div.sk-parallel-item::before {content: \"\";position: absolute;border-left: 1px solid gray;box-sizing: border-box;top: 0;bottom: 0;left: 50%;z-index: -1;}#sk-container-id-6 div.sk-parallel-item {display: flex;flex-direction: column;z-index: 1;position: relative;background-color: white;}#sk-container-id-6 div.sk-parallel-item:first-child::after {align-self: flex-end;width: 50%;}#sk-container-id-6 div.sk-parallel-item:last-child::after {align-self: flex-start;width: 50%;}#sk-container-id-6 div.sk-parallel-item:only-child::after {width: 0;}#sk-container-id-6 div.sk-dashed-wrapped {border: 1px dashed gray;margin: 0 0.4em 0.5em 0.4em;box-sizing: border-box;padding-bottom: 0.4em;background-color: white;}#sk-container-id-6 div.sk-label label {font-family: monospace;font-weight: bold;display: inline-block;line-height: 1.2em;}#sk-container-id-6 div.sk-label-container {text-align: center;}#sk-container-id-6 div.sk-container {/* jupyter's `normalize.less` sets `[hidden] { display: none; }` but bootstrap.min.css set `[hidden] { display: none !important; }` so we also need the `!important` here to be able to override the default hidden behavior on the sphinx rendered scikit-learn.org. See: https://github.com/scikit-learn/scikit-learn/issues/21755 */display: inline-block !important;position: relative;}#sk-container-id-6 div.sk-text-repr-fallback {display: none;}</style><div id=\"sk-container-id-6\" class=\"sk-top-container\"><div class=\"sk-text-repr-fallback\"><pre>RFECV(cv=StratifiedKFold(n_splits=5, random_state=42, shuffle=True),\n",
       "      estimator=GradientBoostingClassifier(random_state=42), scoring=&#x27;f1&#x27;)</pre><b>In a Jupyter environment, please rerun this cell to show the HTML representation or trust the notebook. <br />On GitHub, the HTML representation is unable to render, please try loading this page with nbviewer.org.</b></div><div class=\"sk-container\" hidden><div class=\"sk-item sk-dashed-wrapped\"><div class=\"sk-label-container\"><div class=\"sk-label sk-toggleable\"><input class=\"sk-toggleable__control sk-hidden--visually\" id=\"sk-estimator-id-16\" type=\"checkbox\" ><label for=\"sk-estimator-id-16\" class=\"sk-toggleable__label sk-toggleable__label-arrow\">RFECV</label><div class=\"sk-toggleable__content\"><pre>RFECV(cv=StratifiedKFold(n_splits=5, random_state=42, shuffle=True),\n",
       "      estimator=GradientBoostingClassifier(random_state=42), scoring=&#x27;f1&#x27;)</pre></div></div></div><div class=\"sk-parallel\"><div class=\"sk-parallel-item\"><div class=\"sk-item\"><div class=\"sk-label-container\"><div class=\"sk-label sk-toggleable\"><input class=\"sk-toggleable__control sk-hidden--visually\" id=\"sk-estimator-id-17\" type=\"checkbox\" ><label for=\"sk-estimator-id-17\" class=\"sk-toggleable__label sk-toggleable__label-arrow\">estimator: GradientBoostingClassifier</label><div class=\"sk-toggleable__content\"><pre>GradientBoostingClassifier(random_state=42)</pre></div></div></div><div class=\"sk-serial\"><div class=\"sk-item\"><div class=\"sk-estimator sk-toggleable\"><input class=\"sk-toggleable__control sk-hidden--visually\" id=\"sk-estimator-id-18\" type=\"checkbox\" ><label for=\"sk-estimator-id-18\" class=\"sk-toggleable__label sk-toggleable__label-arrow\">GradientBoostingClassifier</label><div class=\"sk-toggleable__content\"><pre>GradientBoostingClassifier(random_state=42)</pre></div></div></div></div></div></div></div></div></div></div>"
      ],
      "text/plain": [
       "RFECV(cv=StratifiedKFold(n_splits=5, random_state=42, shuffle=True),\n",
       "      estimator=GradientBoostingClassifier(random_state=42), scoring='f1')"
      ]
     },
     "execution_count": 65,
     "metadata": {},
     "output_type": "execute_result"
    }
   ],
   "source": [
    "rfecv.fit(X_train, y_train)"
   ]
  },
  {
   "cell_type": "code",
   "execution_count": 67,
   "metadata": {
    "execution": {
     "iopub.execute_input": "2024-12-25T18:43:25.436864Z",
     "iopub.status.busy": "2024-12-25T18:43:25.436481Z",
     "iopub.status.idle": "2024-12-25T18:43:25.447562Z",
     "shell.execute_reply": "2024-12-25T18:43:25.446566Z",
     "shell.execute_reply.started": "2024-12-25T18:43:25.436835Z"
    },
    "trusted": true
   },
   "outputs": [],
   "source": [
    "X_train_selected = rfecv.transform(X_train)\n",
    "X_test_selected = rfecv.transform(X_test)\n",
    "X_selected = rfecv.transform(X)"
   ]
  },
  {
   "cell_type": "code",
   "execution_count": 68,
   "metadata": {
    "execution": {
     "iopub.execute_input": "2024-12-25T18:43:26.434412Z",
     "iopub.status.busy": "2024-12-25T18:43:26.434016Z",
     "iopub.status.idle": "2024-12-25T18:43:26.440239Z",
     "shell.execute_reply": "2024-12-25T18:43:26.439260Z",
     "shell.execute_reply.started": "2024-12-25T18:43:26.434380Z"
    },
    "trusted": true
   },
   "outputs": [
    {
     "data": {
      "text/plain": [
       "(712, 3)"
      ]
     },
     "execution_count": 68,
     "metadata": {},
     "output_type": "execute_result"
    }
   ],
   "source": [
    "X_train_selected.shape"
   ]
  },
  {
   "cell_type": "code",
   "execution_count": 69,
   "metadata": {
    "execution": {
     "iopub.execute_input": "2024-12-25T18:43:27.829753Z",
     "iopub.status.busy": "2024-12-25T18:43:27.829414Z",
     "iopub.status.idle": "2024-12-25T18:43:27.836167Z",
     "shell.execute_reply": "2024-12-25T18:43:27.835033Z",
     "shell.execute_reply.started": "2024-12-25T18:43:27.829727Z"
    },
    "trusted": true
   },
   "outputs": [
    {
     "data": {
      "text/plain": [
       "Index(['Pclass', 'FareWeight', 'Title_Mr'], dtype='object')"
      ]
     },
     "execution_count": 69,
     "metadata": {},
     "output_type": "execute_result"
    }
   ],
   "source": [
    "X.columns[rfecv.support_]"
   ]
  },
  {
   "cell_type": "code",
   "execution_count": 70,
   "metadata": {
    "execution": {
     "iopub.execute_input": "2024-12-25T18:43:31.655469Z",
     "iopub.status.busy": "2024-12-25T18:43:31.655069Z",
     "iopub.status.idle": "2024-12-25T18:43:31.767153Z",
     "shell.execute_reply": "2024-12-25T18:43:31.766144Z",
     "shell.execute_reply.started": "2024-12-25T18:43:31.655436Z"
    },
    "trusted": true
   },
   "outputs": [
    {
     "data": {
      "text/plain": [
       "0.7883211678832117"
      ]
     },
     "execution_count": 70,
     "metadata": {},
     "output_type": "execute_result"
    }
   ],
   "source": [
    "model.fit(X_train_selected, y_train)\n",
    "y_pred = model.predict(X_test_selected)\n",
    "f1_score(y_test, y_pred)"
   ]
  },
  {
   "cell_type": "code",
   "execution_count": 71,
   "metadata": {
    "execution": {
     "iopub.execute_input": "2024-12-25T18:43:34.055397Z",
     "iopub.status.busy": "2024-12-25T18:43:34.055024Z",
     "iopub.status.idle": "2024-12-25T18:43:34.539957Z",
     "shell.execute_reply": "2024-12-25T18:43:34.539104Z",
     "shell.execute_reply.started": "2024-12-25T18:43:34.055366Z"
    },
    "trusted": true
   },
   "outputs": [
    {
     "data": {
      "text/plain": [
       "0.781"
      ]
     },
     "execution_count": 71,
     "metadata": {},
     "output_type": "execute_result"
    }
   ],
   "source": [
    "cv_score = cross_val_score(model, X_train_selected, y_train, cv=skf, scoring='f1')\n",
    "round(cv_score.mean(), 3)"
   ]
  },
  {
   "cell_type": "code",
   "execution_count": 72,
   "metadata": {
    "execution": {
     "iopub.execute_input": "2024-12-25T18:43:35.470549Z",
     "iopub.status.busy": "2024-12-25T18:43:35.470171Z",
     "iopub.status.idle": "2024-12-25T18:43:35.975471Z",
     "shell.execute_reply": "2024-12-25T18:43:35.974432Z",
     "shell.execute_reply.started": "2024-12-25T18:43:35.470516Z"
    },
    "trusted": true
   },
   "outputs": [
    {
     "data": {
      "text/plain": [
       "0.788"
      ]
     },
     "execution_count": 72,
     "metadata": {},
     "output_type": "execute_result"
    }
   ],
   "source": [
    "cv_score = cross_val_score(model, X_selected, y, cv=skf, scoring='f1')\n",
    "round(cv_score.mean(), 3)"
   ]
  },
  {
   "cell_type": "code",
   "execution_count": 73,
   "metadata": {
    "execution": {
     "iopub.execute_input": "2024-12-25T18:43:46.325875Z",
     "iopub.status.busy": "2024-12-25T18:43:46.325517Z",
     "iopub.status.idle": "2024-12-25T18:43:46.345473Z",
     "shell.execute_reply": "2024-12-25T18:43:46.344428Z",
     "shell.execute_reply.started": "2024-12-25T18:43:46.325846Z"
    },
    "trusted": true
   },
   "outputs": [
    {
     "data": {
      "text/plain": [
       "['feature_selection.joblib']"
      ]
     },
     "execution_count": 73,
     "metadata": {},
     "output_type": "execute_result"
    }
   ],
   "source": [
    "joblib.dump(rfecv, 'feature_selection.joblib')"
   ]
  },
  {
   "cell_type": "markdown",
   "metadata": {},
   "source": [
    "---\n",
    "**SMOTE**"
   ]
  },
  {
   "cell_type": "code",
   "execution_count": null,
   "metadata": {
    "execution": {
     "iopub.execute_input": "2024-12-25T18:43:48.490652Z",
     "iopub.status.busy": "2024-12-25T18:43:48.490311Z",
     "iopub.status.idle": "2024-12-25T18:43:48.499938Z",
     "shell.execute_reply": "2024-12-25T18:43:48.498847Z",
     "shell.execute_reply.started": "2024-12-25T18:43:48.490627Z"
    },
    "trusted": true
   },
   "outputs": [],
   "source": [
    "smote = SMOTE()\n",
    "X_train_selected_balanced, y_train_balanced = smote.fit_resample(X_train_selected, y_train)"
   ]
  },
  {
   "cell_type": "code",
   "execution_count": 76,
   "metadata": {
    "execution": {
     "iopub.execute_input": "2024-12-25T18:43:49.356411Z",
     "iopub.status.busy": "2024-12-25T18:43:49.356044Z",
     "iopub.status.idle": "2024-12-25T18:43:49.475457Z",
     "shell.execute_reply": "2024-12-25T18:43:49.474431Z",
     "shell.execute_reply.started": "2024-12-25T18:43:49.356384Z"
    },
    "trusted": true
   },
   "outputs": [
    {
     "data": {
      "text/plain": [
       "0.7536231884057971"
      ]
     },
     "execution_count": 76,
     "metadata": {},
     "output_type": "execute_result"
    }
   ],
   "source": [
    "model.fit(X_train_selected_balanced, y_train_balanced)\n",
    "y_pred = model.predict(X_test_selected)\n",
    "f1_score(y_test, y_pred)"
   ]
  },
  {
   "cell_type": "markdown",
   "metadata": {},
   "source": [
    "The f1_score is worse with SMOTE, so I won't balance the dataset"
   ]
  },
  {
   "cell_type": "markdown",
   "metadata": {},
   "source": [
    "---\n",
    "**RandomizedSearchCV**"
   ]
  },
  {
   "cell_type": "code",
   "execution_count": null,
   "metadata": {
    "execution": {
     "iopub.execute_input": "2024-12-25T18:46:01.473437Z",
     "iopub.status.busy": "2024-12-25T18:46:01.473070Z",
     "iopub.status.idle": "2024-12-25T18:46:01.478795Z",
     "shell.execute_reply": "2024-12-25T18:46:01.477831Z",
     "shell.execute_reply.started": "2024-12-25T18:46:01.473405Z"
    },
    "trusted": true
   },
   "outputs": [],
   "source": [
    "randomized_params = {\n",
    "    'learning_rate': [0.01, 0.05, 0.10, 0.50],\n",
    "    'n_estimators': list(range(50, 1001, 50)),\n",
    "    'subsample': [0.1, 0.2, 0.3, 0.4, 0.5, 0.6, 0.7, 0.8, 0.9, 1.0],\n",
    "    'min_samples_split': list(range(2, 11, 1)),\n",
    "    'min_samples_leaf': list(range(1, 11, 1)),\n",
    "    'max_depth': [None] + list(range(5, 51, 5)),\n",
    "    'max_features': ['sqrt', 'log2', None],\n",
    "}"
   ]
  },
  {
   "cell_type": "code",
   "execution_count": null,
   "metadata": {
    "execution": {
     "iopub.execute_input": "2024-12-25T18:46:02.311386Z",
     "iopub.status.busy": "2024-12-25T18:46:02.310876Z",
     "iopub.status.idle": "2024-12-25T19:27:29.462162Z",
     "shell.execute_reply": "2024-12-25T19:27:29.461251Z",
     "shell.execute_reply.started": "2024-12-25T18:46:02.311350Z"
    },
    "trusted": true
   },
   "outputs": [],
   "source": [
    "randomized_search = RandomizedSearchCV(estimator=model, param_distributions=randomized_params, cv=skf, scoring='f1', verbose=3, n_iter=500)\n",
    "randomized_search.fit(X_selected, y)"
   ]
  },
  {
   "cell_type": "code",
   "execution_count": 83,
   "metadata": {
    "execution": {
     "iopub.execute_input": "2024-12-25T19:43:56.130993Z",
     "iopub.status.busy": "2024-12-25T19:43:56.130658Z",
     "iopub.status.idle": "2024-12-25T19:43:56.158299Z",
     "shell.execute_reply": "2024-12-25T19:43:56.157252Z",
     "shell.execute_reply.started": "2024-12-25T19:43:56.130962Z"
    },
    "trusted": true
   },
   "outputs": [
    {
     "data": {
      "text/html": [
       "<div>\n",
       "<style scoped>\n",
       "    .dataframe tbody tr th:only-of-type {\n",
       "        vertical-align: middle;\n",
       "    }\n",
       "\n",
       "    .dataframe tbody tr th {\n",
       "        vertical-align: top;\n",
       "    }\n",
       "\n",
       "    .dataframe thead th {\n",
       "        text-align: right;\n",
       "    }\n",
       "</style>\n",
       "<table border=\"1\" class=\"dataframe\">\n",
       "  <thead>\n",
       "    <tr style=\"text-align: right;\">\n",
       "      <th></th>\n",
       "      <th>param_subsample</th>\n",
       "      <th>param_n_estimators</th>\n",
       "      <th>param_min_samples_split</th>\n",
       "      <th>param_min_samples_leaf</th>\n",
       "      <th>param_max_features</th>\n",
       "      <th>param_max_depth</th>\n",
       "      <th>param_learning_rate</th>\n",
       "      <th>params</th>\n",
       "      <th>split0_test_score</th>\n",
       "      <th>split1_test_score</th>\n",
       "      <th>split2_test_score</th>\n",
       "      <th>split3_test_score</th>\n",
       "      <th>split4_test_score</th>\n",
       "      <th>mean_test_score</th>\n",
       "      <th>std_test_score</th>\n",
       "      <th>rank_test_score</th>\n",
       "    </tr>\n",
       "  </thead>\n",
       "  <tbody>\n",
       "    <tr>\n",
       "      <th>427</th>\n",
       "      <td>0.1</td>\n",
       "      <td>750</td>\n",
       "      <td>6</td>\n",
       "      <td>1</td>\n",
       "      <td>sqrt</td>\n",
       "      <td>10</td>\n",
       "      <td>0.01</td>\n",
       "      <td>{'subsample': 0.1, 'n_estimators': 750, 'min_s...</td>\n",
       "      <td>0.812030</td>\n",
       "      <td>0.794118</td>\n",
       "      <td>0.803279</td>\n",
       "      <td>0.809160</td>\n",
       "      <td>0.805970</td>\n",
       "      <td>0.804911</td>\n",
       "      <td>0.006149</td>\n",
       "      <td>1</td>\n",
       "    </tr>\n",
       "    <tr>\n",
       "      <th>59</th>\n",
       "      <td>0.7</td>\n",
       "      <td>200</td>\n",
       "      <td>2</td>\n",
       "      <td>2</td>\n",
       "      <td>sqrt</td>\n",
       "      <td>25</td>\n",
       "      <td>0.01</td>\n",
       "      <td>{'subsample': 0.7, 'n_estimators': 200, 'min_s...</td>\n",
       "      <td>0.809160</td>\n",
       "      <td>0.808824</td>\n",
       "      <td>0.793388</td>\n",
       "      <td>0.793893</td>\n",
       "      <td>0.796875</td>\n",
       "      <td>0.800428</td>\n",
       "      <td>0.007094</td>\n",
       "      <td>2</td>\n",
       "    </tr>\n",
       "    <tr>\n",
       "      <th>206</th>\n",
       "      <td>0.6</td>\n",
       "      <td>500</td>\n",
       "      <td>2</td>\n",
       "      <td>6</td>\n",
       "      <td>None</td>\n",
       "      <td>40</td>\n",
       "      <td>0.01</td>\n",
       "      <td>{'subsample': 0.6, 'n_estimators': 500, 'min_s...</td>\n",
       "      <td>0.815385</td>\n",
       "      <td>0.800000</td>\n",
       "      <td>0.783333</td>\n",
       "      <td>0.791045</td>\n",
       "      <td>0.812030</td>\n",
       "      <td>0.800359</td>\n",
       "      <td>0.012155</td>\n",
       "      <td>3</td>\n",
       "    </tr>\n",
       "    <tr>\n",
       "      <th>135</th>\n",
       "      <td>0.6</td>\n",
       "      <td>200</td>\n",
       "      <td>4</td>\n",
       "      <td>2</td>\n",
       "      <td>None</td>\n",
       "      <td>15</td>\n",
       "      <td>0.01</td>\n",
       "      <td>{'subsample': 0.6, 'n_estimators': 200, 'min_s...</td>\n",
       "      <td>0.809160</td>\n",
       "      <td>0.808824</td>\n",
       "      <td>0.793388</td>\n",
       "      <td>0.781955</td>\n",
       "      <td>0.806202</td>\n",
       "      <td>0.799906</td>\n",
       "      <td>0.010673</td>\n",
       "      <td>4</td>\n",
       "    </tr>\n",
       "    <tr>\n",
       "      <th>210</th>\n",
       "      <td>0.2</td>\n",
       "      <td>700</td>\n",
       "      <td>2</td>\n",
       "      <td>8</td>\n",
       "      <td>log2</td>\n",
       "      <td>40</td>\n",
       "      <td>0.05</td>\n",
       "      <td>{'subsample': 0.2, 'n_estimators': 700, 'min_s...</td>\n",
       "      <td>0.839695</td>\n",
       "      <td>0.770370</td>\n",
       "      <td>0.773109</td>\n",
       "      <td>0.796992</td>\n",
       "      <td>0.818182</td>\n",
       "      <td>0.799670</td>\n",
       "      <td>0.026517</td>\n",
       "      <td>5</td>\n",
       "    </tr>\n",
       "  </tbody>\n",
       "</table>\n",
       "</div>"
      ],
      "text/plain": [
       "    param_subsample param_n_estimators param_min_samples_split  \\\n",
       "427             0.1                750                       6   \n",
       "59              0.7                200                       2   \n",
       "206             0.6                500                       2   \n",
       "135             0.6                200                       4   \n",
       "210             0.2                700                       2   \n",
       "\n",
       "    param_min_samples_leaf param_max_features param_max_depth  \\\n",
       "427                      1               sqrt              10   \n",
       "59                       2               sqrt              25   \n",
       "206                      6               None              40   \n",
       "135                      2               None              15   \n",
       "210                      8               log2              40   \n",
       "\n",
       "    param_learning_rate                                             params  \\\n",
       "427                0.01  {'subsample': 0.1, 'n_estimators': 750, 'min_s...   \n",
       "59                 0.01  {'subsample': 0.7, 'n_estimators': 200, 'min_s...   \n",
       "206                0.01  {'subsample': 0.6, 'n_estimators': 500, 'min_s...   \n",
       "135                0.01  {'subsample': 0.6, 'n_estimators': 200, 'min_s...   \n",
       "210                0.05  {'subsample': 0.2, 'n_estimators': 700, 'min_s...   \n",
       "\n",
       "     split0_test_score  split1_test_score  split2_test_score  \\\n",
       "427           0.812030           0.794118           0.803279   \n",
       "59            0.809160           0.808824           0.793388   \n",
       "206           0.815385           0.800000           0.783333   \n",
       "135           0.809160           0.808824           0.793388   \n",
       "210           0.839695           0.770370           0.773109   \n",
       "\n",
       "     split3_test_score  split4_test_score  mean_test_score  std_test_score  \\\n",
       "427           0.809160           0.805970         0.804911        0.006149   \n",
       "59            0.793893           0.796875         0.800428        0.007094   \n",
       "206           0.791045           0.812030         0.800359        0.012155   \n",
       "135           0.781955           0.806202         0.799906        0.010673   \n",
       "210           0.796992           0.818182         0.799670        0.026517   \n",
       "\n",
       "     rank_test_score  \n",
       "427                1  \n",
       "59                 2  \n",
       "206                3  \n",
       "135                4  \n",
       "210                5  "
      ]
     },
     "execution_count": 83,
     "metadata": {},
     "output_type": "execute_result"
    }
   ],
   "source": [
    "randomized_results = pd.DataFrame(randomized_search.cv_results_).sort_values(by='mean_test_score', ascending=False)\n",
    "randomized_results.iloc[:5,4:]"
   ]
  },
  {
   "cell_type": "code",
   "execution_count": 87,
   "metadata": {
    "execution": {
     "iopub.execute_input": "2024-12-25T19:46:34.639052Z",
     "iopub.status.busy": "2024-12-25T19:46:34.638748Z",
     "iopub.status.idle": "2024-12-25T19:46:34.644574Z",
     "shell.execute_reply": "2024-12-25T19:46:34.643758Z",
     "shell.execute_reply.started": "2024-12-25T19:46:34.639029Z"
    },
    "trusted": true
   },
   "outputs": [
    {
     "data": {
      "text/plain": [
       "{'subsample': 0.1,\n",
       " 'n_estimators': 750,\n",
       " 'min_samples_split': 6,\n",
       " 'min_samples_leaf': 1,\n",
       " 'max_features': 'sqrt',\n",
       " 'max_depth': 10,\n",
       " 'learning_rate': 0.01}"
      ]
     },
     "execution_count": 87,
     "metadata": {},
     "output_type": "execute_result"
    }
   ],
   "source": [
    "randomized_search.best_params_"
   ]
  },
  {
   "cell_type": "markdown",
   "metadata": {},
   "source": [
    "---\n",
    "**GridSearchCV**"
   ]
  },
  {
   "cell_type": "code",
   "execution_count": 99,
   "metadata": {
    "execution": {
     "iopub.execute_input": "2024-12-25T19:49:06.274746Z",
     "iopub.status.busy": "2024-12-25T19:49:06.274318Z",
     "iopub.status.idle": "2024-12-25T19:49:06.279696Z",
     "shell.execute_reply": "2024-12-25T19:49:06.278460Z",
     "shell.execute_reply.started": "2024-12-25T19:49:06.274714Z"
    },
    "trusted": true
   },
   "outputs": [],
   "source": [
    "grid_params = {\n",
    "    'subsample': [0.1, 0.2],\n",
    "    'n_estimators': [725, 750, 775],\n",
    "    'min_samples_split':[5, 6, 7],\n",
    "    'min_samples_leaf': [1, 2],\n",
    "    'max_features': ['sqrt'],\n",
    "    'max_depth': [5, 10, 15],\n",
    "    'learning_rate': [0.01],\n",
    "}"
   ]
  },
  {
   "cell_type": "code",
   "execution_count": null,
   "metadata": {
    "execution": {
     "iopub.execute_input": "2024-12-25T19:49:06.829236Z",
     "iopub.status.busy": "2024-12-25T19:49:06.828899Z",
     "iopub.status.idle": "2024-12-25T19:58:41.185825Z",
     "shell.execute_reply": "2024-12-25T19:58:41.184769Z",
     "shell.execute_reply.started": "2024-12-25T19:49:06.829209Z"
    },
    "trusted": true
   },
   "outputs": [],
   "source": [
    "grid_search = GridSearchCV(estimator=model, param_grid=grid_params, cv=skf, scoring='f1', verbose=3)\n",
    "grid_search.fit(X_selected, y)"
   ]
  },
  {
   "cell_type": "code",
   "execution_count": 101,
   "metadata": {
    "execution": {
     "iopub.execute_input": "2024-12-25T19:59:05.999963Z",
     "iopub.status.busy": "2024-12-25T19:59:05.999603Z",
     "iopub.status.idle": "2024-12-25T19:59:06.021150Z",
     "shell.execute_reply": "2024-12-25T19:59:06.019737Z",
     "shell.execute_reply.started": "2024-12-25T19:59:05.999922Z"
    },
    "trusted": true
   },
   "outputs": [
    {
     "data": {
      "text/html": [
       "<div>\n",
       "<style scoped>\n",
       "    .dataframe tbody tr th:only-of-type {\n",
       "        vertical-align: middle;\n",
       "    }\n",
       "\n",
       "    .dataframe tbody tr th {\n",
       "        vertical-align: top;\n",
       "    }\n",
       "\n",
       "    .dataframe thead th {\n",
       "        text-align: right;\n",
       "    }\n",
       "</style>\n",
       "<table border=\"1\" class=\"dataframe\">\n",
       "  <thead>\n",
       "    <tr style=\"text-align: right;\">\n",
       "      <th></th>\n",
       "      <th>param_learning_rate</th>\n",
       "      <th>param_max_depth</th>\n",
       "      <th>param_max_features</th>\n",
       "      <th>param_min_samples_leaf</th>\n",
       "      <th>param_min_samples_split</th>\n",
       "      <th>param_n_estimators</th>\n",
       "      <th>param_subsample</th>\n",
       "      <th>params</th>\n",
       "      <th>split0_test_score</th>\n",
       "      <th>split1_test_score</th>\n",
       "      <th>split2_test_score</th>\n",
       "      <th>split3_test_score</th>\n",
       "      <th>split4_test_score</th>\n",
       "      <th>mean_test_score</th>\n",
       "      <th>std_test_score</th>\n",
       "      <th>rank_test_score</th>\n",
       "    </tr>\n",
       "  </thead>\n",
       "  <tbody>\n",
       "    <tr>\n",
       "      <th>2</th>\n",
       "      <td>0.01</td>\n",
       "      <td>5</td>\n",
       "      <td>sqrt</td>\n",
       "      <td>1</td>\n",
       "      <td>5</td>\n",
       "      <td>750</td>\n",
       "      <td>0.1</td>\n",
       "      <td>{'learning_rate': 0.01, 'max_depth': 5, 'max_f...</td>\n",
       "      <td>0.828125</td>\n",
       "      <td>0.805970</td>\n",
       "      <td>0.784000</td>\n",
       "      <td>0.81203</td>\n",
       "      <td>0.81203</td>\n",
       "      <td>0.808431</td>\n",
       "      <td>0.014260</td>\n",
       "      <td>1</td>\n",
       "    </tr>\n",
       "    <tr>\n",
       "      <th>80</th>\n",
       "      <td>0.01</td>\n",
       "      <td>15</td>\n",
       "      <td>sqrt</td>\n",
       "      <td>1</td>\n",
       "      <td>6</td>\n",
       "      <td>750</td>\n",
       "      <td>0.1</td>\n",
       "      <td>{'learning_rate': 0.01, 'max_depth': 15, 'max_...</td>\n",
       "      <td>0.818182</td>\n",
       "      <td>0.794118</td>\n",
       "      <td>0.803279</td>\n",
       "      <td>0.80916</td>\n",
       "      <td>0.80597</td>\n",
       "      <td>0.806142</td>\n",
       "      <td>0.007834</td>\n",
       "      <td>2</td>\n",
       "    </tr>\n",
       "    <tr>\n",
       "      <th>44</th>\n",
       "      <td>0.01</td>\n",
       "      <td>10</td>\n",
       "      <td>sqrt</td>\n",
       "      <td>1</td>\n",
       "      <td>6</td>\n",
       "      <td>750</td>\n",
       "      <td>0.1</td>\n",
       "      <td>{'learning_rate': 0.01, 'max_depth': 10, 'max_...</td>\n",
       "      <td>0.812030</td>\n",
       "      <td>0.794118</td>\n",
       "      <td>0.803279</td>\n",
       "      <td>0.80916</td>\n",
       "      <td>0.80597</td>\n",
       "      <td>0.804911</td>\n",
       "      <td>0.006149</td>\n",
       "      <td>3</td>\n",
       "    </tr>\n",
       "    <tr>\n",
       "      <th>46</th>\n",
       "      <td>0.01</td>\n",
       "      <td>10</td>\n",
       "      <td>sqrt</td>\n",
       "      <td>1</td>\n",
       "      <td>6</td>\n",
       "      <td>775</td>\n",
       "      <td>0.1</td>\n",
       "      <td>{'learning_rate': 0.01, 'max_depth': 10, 'max_...</td>\n",
       "      <td>0.812030</td>\n",
       "      <td>0.794118</td>\n",
       "      <td>0.803279</td>\n",
       "      <td>0.80597</td>\n",
       "      <td>0.80597</td>\n",
       "      <td>0.804273</td>\n",
       "      <td>0.005832</td>\n",
       "      <td>4</td>\n",
       "    </tr>\n",
       "    <tr>\n",
       "      <th>84</th>\n",
       "      <td>0.01</td>\n",
       "      <td>15</td>\n",
       "      <td>sqrt</td>\n",
       "      <td>1</td>\n",
       "      <td>7</td>\n",
       "      <td>725</td>\n",
       "      <td>0.1</td>\n",
       "      <td>{'learning_rate': 0.01, 'max_depth': 15, 'max_...</td>\n",
       "      <td>0.818182</td>\n",
       "      <td>0.791045</td>\n",
       "      <td>0.793388</td>\n",
       "      <td>0.80303</td>\n",
       "      <td>0.81203</td>\n",
       "      <td>0.803535</td>\n",
       "      <td>0.010449</td>\n",
       "      <td>5</td>\n",
       "    </tr>\n",
       "  </tbody>\n",
       "</table>\n",
       "</div>"
      ],
      "text/plain": [
       "   param_learning_rate param_max_depth param_max_features  \\\n",
       "2                 0.01               5               sqrt   \n",
       "80                0.01              15               sqrt   \n",
       "44                0.01              10               sqrt   \n",
       "46                0.01              10               sqrt   \n",
       "84                0.01              15               sqrt   \n",
       "\n",
       "   param_min_samples_leaf param_min_samples_split param_n_estimators  \\\n",
       "2                       1                       5                750   \n",
       "80                      1                       6                750   \n",
       "44                      1                       6                750   \n",
       "46                      1                       6                775   \n",
       "84                      1                       7                725   \n",
       "\n",
       "   param_subsample                                             params  \\\n",
       "2              0.1  {'learning_rate': 0.01, 'max_depth': 5, 'max_f...   \n",
       "80             0.1  {'learning_rate': 0.01, 'max_depth': 15, 'max_...   \n",
       "44             0.1  {'learning_rate': 0.01, 'max_depth': 10, 'max_...   \n",
       "46             0.1  {'learning_rate': 0.01, 'max_depth': 10, 'max_...   \n",
       "84             0.1  {'learning_rate': 0.01, 'max_depth': 15, 'max_...   \n",
       "\n",
       "    split0_test_score  split1_test_score  split2_test_score  \\\n",
       "2            0.828125           0.805970           0.784000   \n",
       "80           0.818182           0.794118           0.803279   \n",
       "44           0.812030           0.794118           0.803279   \n",
       "46           0.812030           0.794118           0.803279   \n",
       "84           0.818182           0.791045           0.793388   \n",
       "\n",
       "    split3_test_score  split4_test_score  mean_test_score  std_test_score  \\\n",
       "2             0.81203            0.81203         0.808431        0.014260   \n",
       "80            0.80916            0.80597         0.806142        0.007834   \n",
       "44            0.80916            0.80597         0.804911        0.006149   \n",
       "46            0.80597            0.80597         0.804273        0.005832   \n",
       "84            0.80303            0.81203         0.803535        0.010449   \n",
       "\n",
       "    rank_test_score  \n",
       "2                 1  \n",
       "80                2  \n",
       "44                3  \n",
       "46                4  \n",
       "84                5  "
      ]
     },
     "execution_count": 101,
     "metadata": {},
     "output_type": "execute_result"
    }
   ],
   "source": [
    "grid_results = pd.DataFrame(grid_search.cv_results_).sort_values(by='mean_test_score', ascending=False)\n",
    "grid_results.iloc[:5,4:]"
   ]
  },
  {
   "cell_type": "code",
   "execution_count": 102,
   "metadata": {
    "execution": {
     "iopub.execute_input": "2024-12-25T19:59:42.299521Z",
     "iopub.status.busy": "2024-12-25T19:59:42.299190Z",
     "iopub.status.idle": "2024-12-25T19:59:42.305492Z",
     "shell.execute_reply": "2024-12-25T19:59:42.304478Z",
     "shell.execute_reply.started": "2024-12-25T19:59:42.299496Z"
    },
    "trusted": true
   },
   "outputs": [
    {
     "data": {
      "text/plain": [
       "{'learning_rate': 0.01,\n",
       " 'max_depth': 5,\n",
       " 'max_features': 'sqrt',\n",
       " 'min_samples_leaf': 1,\n",
       " 'min_samples_split': 5,\n",
       " 'n_estimators': 750,\n",
       " 'subsample': 0.1}"
      ]
     },
     "execution_count": 102,
     "metadata": {},
     "output_type": "execute_result"
    }
   ],
   "source": [
    "grid_search.best_params_"
   ]
  },
  {
   "cell_type": "markdown",
   "metadata": {},
   "source": [
    "---"
   ]
  },
  {
   "cell_type": "code",
   "execution_count": 103,
   "metadata": {
    "execution": {
     "iopub.execute_input": "2024-12-25T19:59:50.542584Z",
     "iopub.status.busy": "2024-12-25T19:59:50.542066Z",
     "iopub.status.idle": "2024-12-25T19:59:50.546764Z",
     "shell.execute_reply": "2024-12-25T19:59:50.545749Z",
     "shell.execute_reply.started": "2024-12-25T19:59:50.542531Z"
    },
    "trusted": true
   },
   "outputs": [],
   "source": [
    "best_model = grid_search.best_estimator_"
   ]
  },
  {
   "cell_type": "code",
   "execution_count": 104,
   "metadata": {
    "execution": {
     "iopub.execute_input": "2024-12-25T19:59:52.115090Z",
     "iopub.status.busy": "2024-12-25T19:59:52.114790Z",
     "iopub.status.idle": "2024-12-25T19:59:52.130566Z",
     "shell.execute_reply": "2024-12-25T19:59:52.129537Z",
     "shell.execute_reply.started": "2024-12-25T19:59:52.115065Z"
    },
    "trusted": true
   },
   "outputs": [
    {
     "data": {
      "text/plain": [
       "0.8181818181818182"
      ]
     },
     "execution_count": 104,
     "metadata": {},
     "output_type": "execute_result"
    }
   ],
   "source": [
    "y_pred = best_model.predict(X_test_selected)\n",
    "f1_score(y_test, y_pred)"
   ]
  },
  {
   "cell_type": "code",
   "execution_count": 106,
   "metadata": {
    "execution": {
     "iopub.execute_input": "2024-12-25T20:00:06.377678Z",
     "iopub.status.busy": "2024-12-25T20:00:06.377269Z",
     "iopub.status.idle": "2024-12-25T20:00:10.680390Z",
     "shell.execute_reply": "2024-12-25T20:00:10.679431Z",
     "shell.execute_reply.started": "2024-12-25T20:00:06.377633Z"
    },
    "trusted": true
   },
   "outputs": [
    {
     "data": {
      "text/plain": [
       "0.7648619712"
      ]
     },
     "execution_count": 106,
     "metadata": {},
     "output_type": "execute_result"
    }
   ],
   "source": [
    "cv_score = cross_val_score(best_model, X_train_selected, y_train, cv=skf, scoring='f1')\n",
    "round(cv_score.mean(), 10)"
   ]
  },
  {
   "cell_type": "code",
   "execution_count": 108,
   "metadata": {
    "execution": {
     "iopub.execute_input": "2024-12-25T20:00:25.017946Z",
     "iopub.status.busy": "2024-12-25T20:00:25.017552Z",
     "iopub.status.idle": "2024-12-25T20:00:29.528774Z",
     "shell.execute_reply": "2024-12-25T20:00:29.527811Z",
     "shell.execute_reply.started": "2024-12-25T20:00:25.017895Z"
    },
    "trusted": true
   },
   "outputs": [
    {
     "data": {
      "text/plain": [
       "0.8084310599"
      ]
     },
     "execution_count": 108,
     "metadata": {},
     "output_type": "execute_result"
    }
   ],
   "source": [
    "cv_score = cross_val_score(best_model, X_selected, y, cv=skf, scoring='f1')\n",
    "round(cv_score.mean(), 10)"
   ]
  },
  {
   "cell_type": "code",
   "execution_count": 110,
   "metadata": {
    "execution": {
     "iopub.execute_input": "2024-12-25T20:00:35.441369Z",
     "iopub.status.busy": "2024-12-25T20:00:35.441014Z",
     "iopub.status.idle": "2024-12-25T20:00:35.498278Z",
     "shell.execute_reply": "2024-12-25T20:00:35.497299Z",
     "shell.execute_reply.started": "2024-12-25T20:00:35.441341Z"
    },
    "trusted": true
   },
   "outputs": [
    {
     "data": {
      "text/plain": [
       "['titanic_model.joblib']"
      ]
     },
     "execution_count": 110,
     "metadata": {},
     "output_type": "execute_result"
    }
   ],
   "source": [
    "joblib.dump(best_model, 'titanic_model.joblib')"
   ]
  },
  {
   "cell_type": "markdown",
   "metadata": {},
   "source": [
    "---\n",
    "# **Prediction**"
   ]
  },
  {
   "cell_type": "code",
   "execution_count": 111,
   "metadata": {
    "execution": {
     "iopub.execute_input": "2024-12-25T20:00:38.166901Z",
     "iopub.status.busy": "2024-12-25T20:00:38.166491Z",
     "iopub.status.idle": "2024-12-25T20:00:38.226664Z",
     "shell.execute_reply": "2024-12-25T20:00:38.225801Z",
     "shell.execute_reply.started": "2024-12-25T20:00:38.166869Z"
    },
    "trusted": true
   },
   "outputs": [],
   "source": [
    "titanic_model = joblib.load('titanic_model.joblib')\n",
    "feature_selection = joblib.load('feature_selection.joblib')"
   ]
  },
  {
   "cell_type": "code",
   "execution_count": null,
   "metadata": {
    "execution": {
     "iopub.execute_input": "2024-12-25T20:00:45.998664Z",
     "iopub.status.busy": "2024-12-25T20:00:45.998286Z",
     "iopub.status.idle": "2024-12-25T20:00:46.004867Z",
     "shell.execute_reply": "2024-12-25T20:00:46.003805Z",
     "shell.execute_reply.started": "2024-12-25T20:00:45.998636Z"
    },
    "trusted": true
   },
   "outputs": [
    {
     "data": {
      "text/plain": [
       "(418, 3)"
      ]
     },
     "execution_count": 116,
     "metadata": {},
     "output_type": "execute_result"
    }
   ],
   "source": [
    "test_df = pd.read_csv('data/preprocessed_test.csv')\n",
    "test_df = test_df.drop(columns='Survived')\n",
    "test_df = feature_selection.transform(test_df)\n",
    "test_df.shape"
   ]
  },
  {
   "cell_type": "code",
   "execution_count": null,
   "metadata": {
    "execution": {
     "iopub.execute_input": "2024-12-25T20:00:54.792506Z",
     "iopub.status.busy": "2024-12-25T20:00:54.792130Z",
     "iopub.status.idle": "2024-12-25T20:00:54.796863Z",
     "shell.execute_reply": "2024-12-25T20:00:54.795492Z",
     "shell.execute_reply.started": "2024-12-25T20:00:54.792477Z"
    },
    "trusted": true
   },
   "outputs": [],
   "source": [
    "predictions = titanic_model.predict(test_df)\n",
    "ids = np.arange(892, 1310)"
   ]
  },
  {
   "cell_type": "code",
   "execution_count": 119,
   "metadata": {
    "execution": {
     "iopub.execute_input": "2024-12-25T20:00:55.792752Z",
     "iopub.status.busy": "2024-12-25T20:00:55.792424Z",
     "iopub.status.idle": "2024-12-25T20:00:55.803413Z",
     "shell.execute_reply": "2024-12-25T20:00:55.802346Z",
     "shell.execute_reply.started": "2024-12-25T20:00:55.792726Z"
    },
    "trusted": true
   },
   "outputs": [
    {
     "data": {
      "text/html": [
       "<div>\n",
       "<style scoped>\n",
       "    .dataframe tbody tr th:only-of-type {\n",
       "        vertical-align: middle;\n",
       "    }\n",
       "\n",
       "    .dataframe tbody tr th {\n",
       "        vertical-align: top;\n",
       "    }\n",
       "\n",
       "    .dataframe thead th {\n",
       "        text-align: right;\n",
       "    }\n",
       "</style>\n",
       "<table border=\"1\" class=\"dataframe\">\n",
       "  <thead>\n",
       "    <tr style=\"text-align: right;\">\n",
       "      <th></th>\n",
       "      <th>PassengerId</th>\n",
       "      <th>Survived</th>\n",
       "    </tr>\n",
       "  </thead>\n",
       "  <tbody>\n",
       "    <tr>\n",
       "      <th>0</th>\n",
       "      <td>892</td>\n",
       "      <td>0</td>\n",
       "    </tr>\n",
       "    <tr>\n",
       "      <th>1</th>\n",
       "      <td>893</td>\n",
       "      <td>1</td>\n",
       "    </tr>\n",
       "    <tr>\n",
       "      <th>2</th>\n",
       "      <td>894</td>\n",
       "      <td>0</td>\n",
       "    </tr>\n",
       "    <tr>\n",
       "      <th>3</th>\n",
       "      <td>895</td>\n",
       "      <td>0</td>\n",
       "    </tr>\n",
       "    <tr>\n",
       "      <th>4</th>\n",
       "      <td>896</td>\n",
       "      <td>1</td>\n",
       "    </tr>\n",
       "    <tr>\n",
       "      <th>...</th>\n",
       "      <td>...</td>\n",
       "      <td>...</td>\n",
       "    </tr>\n",
       "    <tr>\n",
       "      <th>413</th>\n",
       "      <td>1305</td>\n",
       "      <td>0</td>\n",
       "    </tr>\n",
       "    <tr>\n",
       "      <th>414</th>\n",
       "      <td>1306</td>\n",
       "      <td>1</td>\n",
       "    </tr>\n",
       "    <tr>\n",
       "      <th>415</th>\n",
       "      <td>1307</td>\n",
       "      <td>0</td>\n",
       "    </tr>\n",
       "    <tr>\n",
       "      <th>416</th>\n",
       "      <td>1308</td>\n",
       "      <td>0</td>\n",
       "    </tr>\n",
       "    <tr>\n",
       "      <th>417</th>\n",
       "      <td>1309</td>\n",
       "      <td>1</td>\n",
       "    </tr>\n",
       "  </tbody>\n",
       "</table>\n",
       "<p>418 rows × 2 columns</p>\n",
       "</div>"
      ],
      "text/plain": [
       "     PassengerId  Survived\n",
       "0            892         0\n",
       "1            893         1\n",
       "2            894         0\n",
       "3            895         0\n",
       "4            896         1\n",
       "..           ...       ...\n",
       "413         1305         0\n",
       "414         1306         1\n",
       "415         1307         0\n",
       "416         1308         0\n",
       "417         1309         1\n",
       "\n",
       "[418 rows x 2 columns]"
      ]
     },
     "execution_count": 119,
     "metadata": {},
     "output_type": "execute_result"
    }
   ],
   "source": [
    "df_predictions = pd.DataFrame({\n",
    "    'PassengerId': ids.astype(int),\n",
    "    'Survived': predictions.astype(int)\n",
    "})\n",
    "df_predictions"
   ]
  },
  {
   "cell_type": "code",
   "execution_count": 121,
   "metadata": {
    "execution": {
     "iopub.execute_input": "2024-12-25T20:01:00.937211Z",
     "iopub.status.busy": "2024-12-25T20:01:00.936866Z",
     "iopub.status.idle": "2024-12-25T20:01:00.943377Z",
     "shell.execute_reply": "2024-12-25T20:01:00.942427Z",
     "shell.execute_reply.started": "2024-12-25T20:01:00.937182Z"
    },
    "trusted": true
   },
   "outputs": [],
   "source": [
    "df_predictions.to_csv('titanic_submission.csv', index=False)"
   ]
  }
 ],
 "metadata": {
  "kaggle": {
   "accelerator": "none",
   "dataSources": [
    {
     "datasetId": 6372447,
     "sourceId": 10295892,
     "sourceType": "datasetVersion"
    },
    {
     "datasetId": 6373878,
     "sourceId": 10297843,
     "sourceType": "datasetVersion"
    }
   ],
   "dockerImageVersionId": 30822,
   "isGpuEnabled": false,
   "isInternetEnabled": false,
   "language": "python",
   "sourceType": "notebook"
  },
  "kernelspec": {
   "display_name": "Python 3",
   "language": "python",
   "name": "python3"
  },
  "language_info": {
   "codemirror_mode": {
    "name": "ipython",
    "version": 3
   },
   "file_extension": ".py",
   "mimetype": "text/x-python",
   "name": "python",
   "nbconvert_exporter": "python",
   "pygments_lexer": "ipython3",
   "version": "3.13.1"
  }
 },
 "nbformat": 4,
 "nbformat_minor": 4
}
